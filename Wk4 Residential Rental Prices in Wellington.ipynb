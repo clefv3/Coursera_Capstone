{
 "cells": [
  {
   "cell_type": "markdown",
   "metadata": {},
   "source": [
    "# Location Factors and Residential Rental Prices in Wellington Region, New Zealand"
   ]
  },
  {
   "cell_type": "markdown",
   "metadata": {},
   "source": [
    "## Introduction"
   ]
  },
  {
   "cell_type": "markdown",
   "metadata": {},
   "source": [
    "The topic of housing affordability has been discussed at length and is mentioned in [New Zealand news](https://www.google.com/search?rlz=1C1GCEB_enNZ852NZ852&biw=1536&bih=666&tbm=nws&sxsrf=ALeKk01l_NIqEnyUajBaLr3E4-rU63OAyQ%3A1606279375748&ei=z-C9X_ypLfOQ4-EPoc6IuAQ&q=new+zealand+news+house+prices&oq=new+zealand+news+house+prices&gs_l=psy-ab.3...730696.733440.0.734548.9.9.0.0.0.0.439.1299.2-2j1j1.4.0....0...1.1.64.psy-ab..5.2.835...0i333k1j33i10k1.0.28jY2MHZN0k) almost daily. Discussions are often linked to first home buyers who, until such day they can buy a house, are likely to remain in the rental market.\n",
    "\n",
    "This study aims to investigate the residential rental prices and location factors that may have influenced them. Instead of comparing different neighbourhoods within a city, I have opted to 'zoom out' and look at localities within a region. In New Zealand, Territorial Local Authorities (TLA) are the second tier of local government, below regional councils. Regional council areas are based on water catchment areas, whereas territorial authorities are based on community of interest and road access. The TLA administer local roading and reserves, water supply and sanitation, building consents, and other local matters. \n",
    "\n",
    "In this study I compared the different TLAs in the Wellington Region. The choice of Wellington Region was due to its variety. It covers a land area of 813,005 hectares and a maritime area of 786,700 hectares. There are 497 kilometres of coastline. There are good contrasts of density areas, from the Capital City to the rural town. By taking this perspective, the findings potentially can better inform not only renters but policy makers as well."
   ]
  },
  {
   "cell_type": "markdown",
   "metadata": {},
   "source": [
    "## Data Sources"
   ]
  },
  {
   "cell_type": "markdown",
   "metadata": {},
   "source": [
    "These data sources contributed to my investigation:\n",
    "1. The list of Territorial Local Authorities were scraped and parsed from [this Wikipedia page](https://en.wikipedia.org/wiki/Territorial_authorities_of_New_Zealand), and verified against official information from the [Regional Council website](http://www.gw.govt.nz/regional-city-or-district-council-/). The table was chosen as it included other location factors such as Land Area, Population, Population Density.\n",
    "2. The residential rental bond data was 'read' from the Ministry of Business, Innovation and Employment [(MBIE) webpage](https://www.mbie.govt.nz/building-and-energy/tenancy-and-housing/rental-bond-data/). This choice was made as data from commercial sources show the advertised price, or the asking price rather than the agreed price. Tenancy bond data from MBIE meanwhile measures the average rent of actual bonds lodged by private landlords with MBIE, or the actual price of newly acquired rentals.\n",
    "3. Location data was taken from [Foursquare API](https://developer.foursquare.com/). This includes latitudes and longitudes as well as venue information."
   ]
  },
  {
   "cell_type": "code",
   "execution_count": null,
   "metadata": {},
   "outputs": [],
   "source": []
  }
 ],
 "metadata": {
  "kernelspec": {
   "display_name": "Python",
   "language": "python",
   "name": "conda-env-python-py"
  },
  "language_info": {
   "codemirror_mode": {
    "name": "ipython",
    "version": 3
   },
   "file_extension": ".py",
   "mimetype": "text/x-python",
   "name": "python",
   "nbconvert_exporter": "python",
   "pygments_lexer": "ipython3",
   "version": "3.6.11"
  }
 },
 "nbformat": 4,
 "nbformat_minor": 4
}
